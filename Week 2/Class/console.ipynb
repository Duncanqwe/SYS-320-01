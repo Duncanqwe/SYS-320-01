{
 "cells": [
  {
   "cell_type": "code",
   "source": [
    "import apacheLog\n",
    "import importlib\n",
    "importlib.reload(apacheLog)"
   ],
   "metadata": {
    "collapsed": false,
    "pycharm": {
     "name": "#%%\n"
    }
   },
   "execution_count": 32,
   "outputs": [
    {
     "data": {
      "text/plain": "<module 'apacheLog' from 'C:\\\\Users\\\\ethan\\\\PycharmProjects\\\\SYS-320-01\\\\Week 2\\\\Class\\\\apacheLog.py'>"
     },
     "execution_count": 32,
     "metadata": {},
     "output_type": "execute_result"
    }
   ]
  },
  {
   "cell_type": "markdown",
   "source": [
    "# Review system logs"
   ],
   "metadata": {
    "collapsed": false,
    "pycharm": {
     "name": "#%% md\n"
    }
   }
  },
  {
   "cell_type": "markdown",
   "source": [
    "### Apache PHP"
   ],
   "metadata": {
    "collapsed": false,
    "pycharm": {
     "name": "#%% md\n"
    }
   }
  },
  {
   "cell_type": "code",
   "execution_count": 34,
   "outputs": [
    {
     "name": "stdout",
     "output_type": "stream",
     "text": [
      "404 GET /wordpress/wp-login.php\n",
      "404 GET /mediawiki/index.php?title=Main_Page\n"
     ]
    }
   ],
   "source": [
    "apacheLog.apache_events('../../logs/access.log', 'apache', 'php')"
   ],
   "metadata": {
    "collapsed": false,
    "pycharm": {
     "name": "#%%\n"
    }
   }
  },
  {
   "cell_type": "code",
   "execution_count": 35,
   "outputs": [
    {
     "name": "stdout",
     "output_type": "stream",
     "text": [
      "404 POST /cgi-bin/test-cgi\n",
      "404 GET /cgi-bin/htsearch?Exclude=%60/etc/passwd%60\n",
      "404 GET /cgi-bin/test-cgi\n"
     ]
    }
   ],
   "source": [
    "apacheLog.apache_events('../../logs/access.log', 'apache', 'cgi')"
   ],
   "metadata": {
    "collapsed": false,
    "pycharm": {
     "name": "#%%\n"
    }
   }
  }
 ],
 "metadata": {
  "kernelspec": {
   "display_name": "Python 3",
   "language": "python",
   "name": "python3"
  },
  "language_info": {
   "codemirror_mode": {
    "name": "ipython",
    "version": 2
   },
   "file_extension": ".py",
   "mimetype": "text/x-python",
   "name": "python",
   "nbconvert_exporter": "python",
   "pygments_lexer": "ipython2",
   "version": "2.7.6"
  }
 },
 "nbformat": 4,
 "nbformat_minor": 0
}