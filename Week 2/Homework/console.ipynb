{
 "cells": [
  {
   "cell_type": "code",
   "source": [
    "import byteLog, searchLog\n",
    "import importlib\n",
    "importlib.reload(byteLog)\n",
    "importlib.reload(searchLog)"
   ],
   "metadata": {
    "collapsed": false,
    "pycharm": {
     "name": "#%%\n"
    }
   },
   "execution_count": 8,
   "outputs": [
    {
     "name": "stdout",
     "output_type": "stream",
     "text": [
      "No such file or directory\n",
      "No such file or directory\n"
     ]
    },
    {
     "data": {
      "text/plain": "<module 'searchLog' from 'C:\\\\Users\\\\ethan\\\\PycharmProjects\\\\SYS-320-01\\\\Week 2\\\\Homework\\\\searchLog.py'>"
     },
     "execution_count": 8,
     "metadata": {},
     "output_type": "execute_result"
    }
   ]
  },
  {
   "cell_type": "markdown",
   "source": [
    "# Review system logs"
   ],
   "metadata": {
    "collapsed": false,
    "pycharm": {
     "name": "#%% md\n"
    }
   }
  },
  {
   "cell_type": "code",
   "execution_count": 9,
   "outputs": [
    {
     "data": {
      "text/plain": "['QQ.exe - 183.60.49.182:443 open through proxy proxy.cse.cuhk.edu.hk:5070 HTTPS',\n 'QQ.exe - 2052.flash2-http.qq.com:80 close, 466 bytes sent, 125682 bytes (122 KB) received, lifetime <1 sec',\n 'QQ.exe - cgi.qqweb.qq.com:80 close, 477 bytes sent, 448 bytes received, lifetime <1 sec',\n 'QQ.exe - cgi.qqweb.qq.com:80 open through proxy proxy.cse.cuhk.edu.hk:5070 HTTPS',\n 'QQ.exe - qqmail.tencent.com:80 close, 336 bytes sent, 2854 bytes (2.78 KB) received, lifetime 00:01',\n 'QQ.exe - showxml.qq.com:80 close, 600 bytes sent, 1716 bytes (1.67 KB) received, lifetime <1 sec',\n 'QQ.exe - tcpconn.tencent.com:80 close, 133 bytes sent, 0 bytes received, lifetime <1 sec',\n 'QQ.exe - tcpconn.tencent.com:80 open through proxy proxy.cse.cuhk.edu.hk:5070 HTTPS',\n 'QQ.exe - tcpconn3.tencent.com:443 close, 149 bytes sent, 121 bytes received, lifetime <1 sec',\n 'QQ.exe - tcpconn3.tencent.com:443 open through proxy proxy.cse.cuhk.edu.hk:5070 HTTPS',\n 'QQ.exe - tcpconn3.tencent.com:80 close, 0 bytes sent, 0 bytes received, lifetime <1 sec',\n 'QQ.exe - tcpconn4.tencent.com:80 error : Could not connect through proxy proxy.cse.cuhk.edu.hk:5070 - Proxy closed the connection unexpectedly. ',\n 'QQ.exe - tcpconn6.tencent.com:443 close, 0 bytes sent, 0 bytes received, lifetime <1 sec',\n 'QQ.exe - tcpconn6.tencent.com:443 error : A connection request was canceled before the completion.',\n 'QQ.exe - tcpconn6.tencent.com:443 open through proxy proxy.cse.cuhk.edu.hk:5070 HTTPS',\n 'QQ.exe - tcpconn6.tencent.com:80 close, 0 bytes sent, 0 bytes received, lifetime <1 sec',\n 'QQ.exe - tcpconn6.tencent.com:80 open through proxy proxy.cse.cuhk.edu.hk:5070 HTTPS']"
     },
     "execution_count": 9,
     "metadata": {},
     "output_type": "execute_result"
    }
   ],
   "source": [
    "byteLog._apachelog('../../logs/Proxifier_2k.log', ['QQ.exe\\ .*-.*'])"
   ],
   "metadata": {
    "collapsed": false,
    "pycharm": {
     "name": "#%%\n"
    }
   }
  },
  {
   "cell_type": "code",
   "execution_count": 12,
   "outputs": [
    {
     "ename": "NameError",
     "evalue": "name 'keywords' is not defined",
     "output_type": "error",
     "traceback": [
      "\u001B[1;31m---------------------------------------------------------------------------\u001B[0m",
      "\u001B[1;31mNameError\u001B[0m                                 Traceback (most recent call last)",
      "Input \u001B[1;32mIn [12]\u001B[0m, in \u001B[0;36m<module>\u001B[1;34m\u001B[0m\n\u001B[1;32m----> 1\u001B[0m \u001B[43msearchLog\u001B[49m\u001B[38;5;241;43m.\u001B[39;49m\u001B[43msearch_events\u001B[49m\u001B[43m(\u001B[49m\u001B[38;5;124;43m'\u001B[39;49m\u001B[38;5;124;43m../../logs/Proxifier_2k.log\u001B[39;49m\u001B[38;5;124;43m'\u001B[39;49m\u001B[43m,\u001B[49m\u001B[43m \u001B[49m\u001B[38;5;124;43m'\u001B[39;49m\u001B[38;5;124;43mproxy\u001B[39;49m\u001B[38;5;124;43m'\u001B[39;49m\u001B[43m,\u001B[49m\u001B[43m \u001B[49m\u001B[38;5;124;43m'\u001B[39;49m\u001B[38;5;124;43mqqopen\u001B[39;49m\u001B[38;5;124;43m'\u001B[39;49m\u001B[43m)\u001B[49m\n",
      "File \u001B[1;32m~\\PycharmProjects\\SYS-320-01\\Week 2\\Homework\\searchLog.py:8\u001B[0m, in \u001B[0;36msearch_events\u001B[1;34m(filename, service, term)\u001B[0m\n\u001B[0;32m      5\u001B[0m \u001B[38;5;28;01mdef\u001B[39;00m \u001B[38;5;21msearch_events\u001B[39m(filename, service, term):\n\u001B[0;32m      6\u001B[0m \n\u001B[0;32m      7\u001B[0m     \u001B[38;5;66;03m# Call syslogCheck and return the results\u001B[39;00m\n\u001B[1;32m----> 8\u001B[0m     is_found \u001B[38;5;241m=\u001B[39m \u001B[43mlogCheck\u001B[49m\u001B[38;5;241;43m.\u001B[39;49m\u001B[43m_logs\u001B[49m\u001B[43m(\u001B[49m\u001B[43mfilename\u001B[49m\u001B[43m,\u001B[49m\u001B[43m \u001B[49m\u001B[43mservice\u001B[49m\u001B[43m,\u001B[49m\u001B[43m \u001B[49m\u001B[43mterm\u001B[49m\u001B[43m)\u001B[49m\n\u001B[0;32m     10\u001B[0m     \u001B[38;5;66;03m# found list\u001B[39;00m\n\u001B[0;32m     11\u001B[0m     found \u001B[38;5;241m=\u001B[39m []\n",
      "File \u001B[1;32m~\\PycharmProjects\\SYS-320-01\\Week 2\\Homework\\logCheck.py:18\u001B[0m, in \u001B[0;36m_logs\u001B[1;34m(filename, host, term)\u001B[0m\n\u001B[0;32m     14\u001B[0m \u001B[38;5;28;01mdef\u001B[39;00m \u001B[38;5;21m_logs\u001B[39m(filename, host, term):\n\u001B[0;32m     15\u001B[0m \n\u001B[0;32m     16\u001B[0m     \u001B[38;5;66;03m# querey the yaml file for the 'term' or direction and retireve the strings to search on\u001B[39;00m\n\u001B[0;32m     17\u001B[0m     \u001B[38;5;66;03m# terns = keywords['apache']['php']\u001B[39;00m\n\u001B[1;32m---> 18\u001B[0m     terms \u001B[38;5;241m=\u001B[39m \u001B[43mkeywords\u001B[49m[host][term]\n\u001B[0;32m     20\u001B[0m     listOfKeywords \u001B[38;5;241m=\u001B[39m terms\u001B[38;5;241m.\u001B[39msplit(\u001B[38;5;124m\"\u001B[39m\u001B[38;5;124m,\u001B[39m\u001B[38;5;124m\"\u001B[39m)\n\u001B[0;32m     22\u001B[0m     \u001B[38;5;66;03m# Open a file\u001B[39;00m\n",
      "\u001B[1;31mNameError\u001B[0m: name 'keywords' is not defined"
     ]
    }
   ],
   "source": [
    "searchLog.search_events('../../logs/Proxifier_2k.log', 'proxy', 'qqopen')"
   ],
   "metadata": {
    "collapsed": false,
    "pycharm": {
     "name": "#%%\n"
    }
   }
  }
 ],
 "metadata": {
  "kernelspec": {
   "display_name": "Python 3",
   "language": "python",
   "name": "python3"
  },
  "language_info": {
   "codemirror_mode": {
    "name": "ipython",
    "version": 2
   },
   "file_extension": ".py",
   "mimetype": "text/x-python",
   "name": "python",
   "nbconvert_exporter": "python",
   "pygments_lexer": "ipython2",
   "version": "2.7.6"
  }
 },
 "nbformat": 4,
 "nbformat_minor": 0
}