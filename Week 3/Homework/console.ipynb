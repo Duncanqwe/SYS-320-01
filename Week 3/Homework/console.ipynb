{
 "cells": [
  {
   "cell_type": "markdown",
   "metadata": {},
   "source": [
    "# URLHAUS"
   ]
  },
  {
   "cell_type": "code",
   "execution_count": null,
   "metadata": {},
   "outputs": [
    {
     "ename": "IndentationError",
     "evalue": "expected an indented block (urlHaus.py, line 6)",
     "output_type": "error",
     "traceback": [
      "Traceback \u001B[1;36m(most recent call last)\u001B[0m:\n",
      "  File \u001B[0;32mc:\\users\\ethan\\pycharmprojects\\sys-320-01\\venv\\lib\\site-packages\\IPython\\core\\interactiveshell.py:3251\u001B[0m in \u001B[0;35mrun_code\u001B[0m\n    exec(code_obj, self.user_global_ns, self.user_ns)\n",
      "\u001B[1;36m  Input \u001B[1;32mIn [1]\u001B[1;36m in \u001B[1;35m<module>\u001B[1;36m\u001B[0m\n\u001B[1;33m    import urlHaus as u\u001B[0m\n",
      "\u001B[1;36m  File \u001B[1;32m~\\PycharmProjects\\SYS-320-01\\Week 3\\Homework\\urlHaus.py:6\u001B[1;36m\u001B[0m\n\u001B[1;33m    while open('filename') as f:\u001B[0m\n\u001B[1;37m    ^\u001B[0m\n\u001B[1;31mIndentationError\u001B[0m\u001B[1;31m:\u001B[0m expected an indented block\n"
     ]
    }
   ],
   "source": [
    "import urlHaus as u\n",
    "import importlib\n",
    "importlib.reload(u)\n"
   ]
  },
  {
   "cell_type": "code",
   "execution_count": 59,
   "metadata": {},
   "outputs": [],
   "source": [
    "u.urlHausOpen('../../logs/urlHaus.csv', '.php')"
   ]
  }
 ],
 "metadata": {
  "interpreter": {
   "hash": "e849244212d109cc3cb88a1154d46bb16288231cb9cc2770bd078951feabfff8"
  },
  "kernelspec": {
   "display_name": "Python 3.9.6 64-bit",
   "language": "python",
   "name": "python3"
  },
  "language_info": {
   "codemirror_mode": {
    "name": "ipython",
    "version": 3
   },
   "file_extension": ".py",
   "mimetype": "text/x-python",
   "name": "python",
   "nbconvert_exporter": "python",
   "pygments_lexer": "ipython3",
   "version": "3.10.2"
  },
  "orig_nbformat": 4
 },
 "nbformat": 4,
 "nbformat_minor": 2
}