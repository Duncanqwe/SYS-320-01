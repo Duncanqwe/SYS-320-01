{
 "cells": [
  {
   "cell_type": "code",
   "execution_count": null,
   "metadata": {
    "collapsed": true
   },
   "outputs": [],
   "source": [
    "---\n",
    "shell_attacks:\n",
    "    winShell: \"cmd.exe\"\n",
    "    nixShell:  \"/bin/sh\"\n",
    "    webShell: \"c99.php\"\n",
    "\n",
    "---\n",
    "sql_injection:\n",
    "    phpmyadmin: \"/phpmyadmin\"\n",
    "    mysql: \"mysql\"\n",
    "\n",
    "---\n",
    "directory_traversal:\n",
    "    etcpassword: \"/etc/password\"\n",
    "    backslash_dot: \"/../../../\"\n",
    "\n",
    "---\n",
    "content_management_systems_attack:\n",
    "    joomla: \"joomla\"\n",
    "    wordpress: \"wordpress\"\n",
    "    xmlrpc: \"xmlrpc\"\n",
    "\n",
    "---"
   ]
  }
 ],
 "metadata": {
  "kernelspec": {
   "display_name": "Python 3",
   "language": "python",
   "name": "python3"
  },
  "language_info": {
   "codemirror_mode": {
    "name": "ipython",
    "version": 2
   },
   "file_extension": ".py",
   "mimetype": "text/x-python",
   "name": "python",
   "nbconvert_exporter": "python",
   "pygments_lexer": "ipython2",
   "version": "2.7.6"
  }
 },
 "nbformat": 4,
 "nbformat_minor": 0
}